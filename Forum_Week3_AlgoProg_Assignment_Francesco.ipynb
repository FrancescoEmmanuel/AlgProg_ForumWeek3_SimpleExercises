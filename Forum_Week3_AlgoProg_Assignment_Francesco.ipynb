{
  "cells": [
    {
      "cell_type": "markdown",
      "metadata": {
        "id": "view-in-github",
        "colab_type": "text"
      },
      "source": [
        "<a href=\"https://colab.research.google.com/github/FrancescoEmmanuel/AlgProg_ForumWeek3_SimpleExercises/blob/main/Forum_Week3_AlgoProg_Assignment_Francesco.ipynb\" target=\"_parent\"><img src=\"https://colab.research.google.com/assets/colab-badge.svg\" alt=\"Open In Colab\"/></a>"
      ]
    },
    {
      "cell_type": "markdown",
      "source": [
        "1. Write a Python program which accepts the radius of a circle from the user and compute the area  \n"
      ],
      "metadata": {
        "id": "C_JCbGq5KW_5"
      }
    },
    {
      "cell_type": "code",
      "execution_count": null,
      "metadata": {
        "id": "PjNOiomyKS8m",
        "outputId": "4c996a7a-9ced-4725-b104-98a9329b6e86"
      },
      "outputs": [
        {
          "name": "stdout",
          "output_type": "stream",
          "text": [
            "The area of the circle is 1809.6 cm^2\n"
          ]
        }
      ],
      "source": [
        "# area = pi*r**2\n",
        "import math\n",
        "\n",
        "rad = eval(input(\"Enter the radius of the circle(cm): \"))\n",
        "area = round(math.pi*(rad**2),1)\n",
        "\n",
        "print (f\"The area of the circle is {area} cm^2\")"
      ]
    },
    {
      "cell_type": "markdown",
      "source": [
        "2. Write a Python program which accepts the user's first and last name and print them in reverse order with a space between them."
      ],
      "metadata": {
        "id": "KLk0-879Kk4e"
      }
    },
    {
      "cell_type": "code",
      "execution_count": null,
      "metadata": {
        "id": "9D05SfVgKS8s",
        "outputId": "532eb88d-6f29-4185-e422-6935780ee465"
      },
      "outputs": [
        {
          "name": "stdout",
          "output_type": "stream",
          "text": [
            "mo  franz\n"
          ]
        }
      ],
      "source": [
        "first = input(\"Enter your first name: \")\n",
        "last = input(\"Enter your last name: \")\n",
        "\n",
        "print(last,\"\",first)"
      ]
    },
    {
      "cell_type": "markdown",
      "source": [
        "3. Write a Python program to display the first and last colors from the following list."
      ],
      "metadata": {
        "id": "0XvbDqv_KuW1"
      }
    },
    {
      "cell_type": "code",
      "execution_count": null,
      "metadata": {
        "id": "fU3ObawnKS8u",
        "outputId": "8590929f-0956-4faf-845e-7e143d25d857"
      },
      "outputs": [
        {
          "name": "stdout",
          "output_type": "stream",
          "text": [
            "Red Black\n"
          ]
        }
      ],
      "source": [
        "color_list = [\"Red\",\"Green\",\"White\",\"Black\"]\n",
        "\n",
        "print(color_list[0],color_list[3])"
      ]
    },
    {
      "cell_type": "markdown",
      "source": [
        "4.Write a Python program that accepts an integer (n) and computes the value of n+nn+nnn."
      ],
      "metadata": {
        "id": "4m_AqO_6LOGm"
      }
    },
    {
      "cell_type": "code",
      "execution_count": null,
      "metadata": {
        "id": "0i38UEaRKS80",
        "outputId": "27e585b8-05e3-43d7-ca36-197287bfe891"
      },
      "outputs": [
        {
          "name": "stdout",
          "output_type": "stream",
          "text": [
            "14\n"
          ]
        }
      ],
      "source": [
        "n= int(input(\"Enter an interger: \"))\n",
        "nn=n*n\n",
        "nnn=nn*n\n",
        "\n",
        "print(n+nn+nnn)\n"
      ]
    },
    {
      "cell_type": "markdown",
      "source": [
        "5. Write a Python program to get the volume of a sphere with radius 6. "
      ],
      "metadata": {
        "id": "yTyQ_tBgLUcZ"
      }
    },
    {
      "cell_type": "code",
      "execution_count": null,
      "metadata": {
        "id": "f6MKpoJxKS81",
        "outputId": "6bef08ef-39bd-4c00-d805-ef0efdb4f939"
      },
      "outputs": [
        {
          "name": "stdout",
          "output_type": "stream",
          "text": [
            "The volume of the sphere is 904.8 cm^3\n"
          ]
        }
      ],
      "source": [
        "\n",
        "#   The volume of the sphere is : V = 4/3 × π × r3 = π × d3/6\n",
        "\n",
        "import math\n",
        "\n",
        "vol= round((4/3)*math.pi*(6**3),1)\n",
        "\n",
        "print(f\"The volume of the sphere is {vol} cm^3\")"
      ]
    },
    {
      "cell_type": "markdown",
      "source": [
        "6. Write a Python program to get the difference between a given number and 17, if the number is greater than 17 return double the absolute difference."
      ],
      "metadata": {
        "id": "mK2ECVHRLa05"
      }
    },
    {
      "cell_type": "code",
      "execution_count": null,
      "metadata": {
        "id": "brObQCLGKS9J",
        "outputId": "c6e0608d-f542-45f4-95e8-84c9a92fd944"
      },
      "outputs": [
        {
          "name": "stdout",
          "output_type": "stream",
          "text": [
            "6\n"
          ]
        }
      ],
      "source": [
        "\n",
        "n= eval(input(\"Enter a number: \"))\n",
        "\n",
        "if n > 17:\n",
        "    print((n-17)*2)\n",
        "else:\n",
        "    print(17-n)"
      ]
    },
    {
      "cell_type": "markdown",
      "source": [
        "7. Write a Python program to calculate the sum of three given numbers, if the values are equal then return thrice of their sum.\n"
      ],
      "metadata": {
        "id": "-TBRYf-1LiVJ"
      }
    },
    {
      "cell_type": "code",
      "execution_count": null,
      "metadata": {
        "id": "C_DFPCYqKS9K",
        "outputId": "0caf9be6-99f9-4636-d0d1-b76066e24430"
      },
      "outputs": [
        {
          "name": "stdout",
          "output_type": "stream",
          "text": [
            "21\n"
          ]
        }
      ],
      "source": [
        "a = eval(input(\"Enter the first number: \"))\n",
        "b = eval(input(\"Enter the second number: \"))\n",
        "c = eval(input(\"Enter the third number: \"))\n",
        "sum = a + b + c\n",
        "\n",
        "if a == b or a == c or c == b:\n",
        "    print (sum*3)\n",
        "else:\n",
        "    print (sum)"
      ]
    },
    {
      "cell_type": "markdown",
      "source": [
        "8. Write a Python program to find whether a given number (accept from the user) is even or odd, print out an appropriate message to the user.\n"
      ],
      "metadata": {
        "id": "D18_Bu9qL-s_"
      }
    },
    {
      "cell_type": "code",
      "execution_count": null,
      "metadata": {
        "id": "SXSIDEAHKS9N",
        "outputId": "8880bbf8-e788-475c-c8e3-909d8849d046"
      },
      "outputs": [
        {
          "name": "stdout",
          "output_type": "stream",
          "text": [
            "This is an odd number\n"
          ]
        }
      ],
      "source": [
        "\n",
        "num = eval(input(\"Input a number: \"))\n",
        "\n",
        "if num%2==0:\n",
        "    print(\"This is an even number\")\n",
        "else: \n",
        "    print(\"This is an odd number\")"
      ]
    },
    {
      "cell_type": "markdown",
      "source": [
        "9.Write a Python program to test whether a letter is a vowel or not"
      ],
      "metadata": {
        "id": "8__vdegOMC3k"
      }
    },
    {
      "cell_type": "code",
      "execution_count": null,
      "metadata": {
        "id": "JHu_6nRgKS9P",
        "outputId": "edd129d3-9b6b-4868-f700-f91e5c8b1200"
      },
      "outputs": [
        {
          "name": "stdout",
          "output_type": "stream",
          "text": [
            "This letter is a vowel\n"
          ]
        }
      ],
      "source": [
        "\n",
        "\n",
        "vowel= [\"A\",\"I\",\"U\",\"E\",\"O\",\"a\",\"i\",\"u\",\"e\",\"o\"]\n",
        "lett = input(\"Enter a letter\")\n",
        "\n",
        "if lett in vowel:\n",
        "    print(\"This letter is a vowel\")\n",
        "else:\n",
        "    print(\"This letter is not a vowel\")"
      ]
    },
    {
      "cell_type": "markdown",
      "source": [
        "10. Write a Python program to check whether a specified value is contained in a group of values."
      ],
      "metadata": {
        "id": "OkXfbeuGMIyU"
      }
    },
    {
      "cell_type": "code",
      "execution_count": null,
      "metadata": {
        "id": "4mpm2LZrKS9S",
        "outputId": "477bd5f0-5a76-4240-edf6-07c98a669f1e"
      },
      "outputs": [
        {
          "name": "stdout",
          "output_type": "stream",
          "text": [
            "The number numCheck 6 is in the list!\n"
          ]
        }
      ],
      "source": [
        "\n",
        "\n",
        "a = [1,13,4,5,6]\n",
        "\n",
        "numCheck = int(input(\"Enter an integer: \"))\n",
        "\n",
        "if numCheck in a:\n",
        "    print (f\"The number {numCheck} is in the list!\")\n",
        "else:\n",
        "    print (f\"The number {numCheck} is not in this list! \")"
      ]
    },
    {
      "cell_type": "markdown",
      "source": [
        "11.Write a Python program to create a histogram from a given list of integer"
      ],
      "metadata": {
        "id": "38JeVs0vMNG1"
      }
    },
    {
      "cell_type": "code",
      "execution_count": null,
      "metadata": {
        "id": "U9-NV2lrKS9V",
        "outputId": "5b3afed3-724b-4208-849a-7d564d404f5a"
      },
      "outputs": [
        {
          "ename": "ModuleNotFoundError",
          "evalue": "No module named 'matplotlib'",
          "output_type": "error",
          "traceback": [
            "\u001b[1;31m---------------------------------------------------------------------------\u001b[0m",
            "\u001b[1;31mModuleNotFoundError\u001b[0m                       Traceback (most recent call last)",
            "Cell \u001b[1;32mIn [33], line 3\u001b[0m\n\u001b[0;32m      1\u001b[0m \u001b[38;5;66;03m#11.Write a Python program to create a histogram from a given list of integer\u001b[39;00m\n\u001b[1;32m----> 3\u001b[0m \u001b[38;5;28;01mimport\u001b[39;00m \u001b[38;5;21;01mmatplotlib\u001b[39;00m\u001b[38;5;21;01m.\u001b[39;00m\u001b[38;5;21;01mpyplot\u001b[39;00m \u001b[38;5;28;01mas\u001b[39;00m \u001b[38;5;21;01mplt\u001b[39;00m\n\u001b[0;32m      5\u001b[0m input_string \u001b[38;5;241m=\u001b[39m \u001b[38;5;28minput\u001b[39m(\u001b[38;5;124m'\u001b[39m\u001b[38;5;124mEnter elements of a list separated by space \u001b[39m\u001b[38;5;124m'\u001b[39m)\n\u001b[0;32m      6\u001b[0m \u001b[38;5;28mprint\u001b[39m(\u001b[38;5;124m\"\u001b[39m\u001b[38;5;130;01m\\n\u001b[39;00m\u001b[38;5;124m\"\u001b[39m)\n",
            "\u001b[1;31mModuleNotFoundError\u001b[0m: No module named 'matplotlib'"
          ]
        }
      ],
      "source": [
        "import matplotlib.pyplot as plt\n",
        "\n",
        "input_string = input('Enter a list of intergers separated by space! ')\n",
        "user_list = input_string.split()\n",
        "\n",
        "# convert each item to int type\n",
        "for i in range(len(user_list)):\n",
        "    # convert each item to int type\n",
        "    user_list[i] = int(user_list[i])\n",
        "\n",
        "plt.hist(user_list)\n",
        "plt.show() "
      ]
    },
    {
      "cell_type": "markdown",
      "source": [
        "12.Write a Python program to print all even numbers from a given numbers list in the same order."
      ],
      "metadata": {
        "id": "ZzHca5oWMlO6"
      }
    },
    {
      "cell_type": "code",
      "execution_count": null,
      "metadata": {
        "id": "XoIoUo4wKS9X",
        "outputId": "c52c09f1-58c4-40d8-a1ab-35d26adf9d99"
      },
      "outputs": [
        {
          "name": "stdout",
          "output_type": "stream",
          "text": [
            "[386, 462, 418, 344, 236, 566, 978, 328, 162, 758, 918, 412, 566, 826, 248, 866, 950, 626, 104, 58, 512, 24, 892, 894, 742, 958]\n"
          ]
        }
      ],
      "source": [
        "\n",
        "#Sample numbers list :\n",
        "\n",
        "numbers = [ \n",
        " 386, 462, 47, 418, 907, 344, 236, 375, 823, 566, 597, 978, 328, 615, 953, 345, \n",
        " 399, 162, 758, 219, 918, 237, 412, 566, 826, 248, 866, 950, 626, 949, 687, 217, \n",
        " 815, 67, 104, 58, 512, 24, 892, 894, 767, 553, 81, 379, 843, 831, 445, 742, 717, \n",
        " 958,743, 527 ]\n",
        "\n",
        "evennum=[]\n",
        "\n",
        "for x in numbers:\n",
        "    if x%2==0:\n",
        "        evennum.append(x)\n",
        "\n",
        "print(evennum)"
      ]
    },
    {
      "cell_type": "markdown",
      "source": [
        "13.Write a Python program that will accept the base and height of a triangle and compute the area."
      ],
      "metadata": {
        "id": "V69c7q6sMo0H"
      }
    },
    {
      "cell_type": "code",
      "execution_count": null,
      "metadata": {
        "id": "oLLccGihKS9Z",
        "outputId": "60c06069-32ef-4070-e188-9da3de8620c2"
      },
      "outputs": [
        {
          "name": "stdout",
          "output_type": "stream",
          "text": [
            "The area of the triangle is 24.0 cm^2\n"
          ]
        }
      ],
      "source": [
        "\n",
        "# Area of a triangle = 1/2 *base*height\n",
        "\n",
        "base = eval(input(\"Length of the base(cm): \"))\n",
        "height = eval(input(\"Length of the height(cm): \"))\n",
        "area = round(0.5*base*height,1)\n",
        "\n",
        "print(f\"The area of the triangle is {area} cm^2\")\n"
      ]
    },
    {
      "cell_type": "markdown",
      "source": [
        "14.Write a Python program to get the least common multiple (LCM) of two positive integers."
      ],
      "metadata": {
        "id": "BrqAoKyiMsuJ"
      }
    },
    {
      "cell_type": "code",
      "execution_count": null,
      "metadata": {
        "id": "YFFg5XcQKS9c",
        "outputId": "d1306b60-9b7c-46ef-b28d-413f282069a3"
      },
      "outputs": [
        {
          "name": "stdout",
          "output_type": "stream",
          "text": [
            "The LCM of 12 and 8 is 24\n"
          ]
        }
      ],
      "source": [
        "\n",
        "\n",
        "import math\n",
        "a = int(input('Enter the first number:'))\n",
        "b = int(input('Enter the second number:'))\n",
        "lcm = math.lcm(a,b)\n",
        "\n",
        "print (f\"The LCM of {a} and {b} is {lcm}\")"
      ]
    },
    {
      "cell_type": "markdown",
      "source": [
        "15.Write a Python program to sum of three given integers. However, if two values are equal sum will be zero."
      ],
      "metadata": {
        "id": "bTrMoasAMw4e"
      }
    },
    {
      "cell_type": "code",
      "execution_count": null,
      "metadata": {
        "id": "UvGPRhreKS9d",
        "outputId": "d3327108-93d6-4cdf-a1e6-b79935aa37a3"
      },
      "outputs": [
        {
          "name": "stdout",
          "output_type": "stream",
          "text": [
            "The sum is  9\n"
          ]
        }
      ],
      "source": [
        "a= int(input(\"Enter the first interger: \"))\n",
        "b= int(input(\"Enter the second interger: \"))\n",
        "c= int(input(\"Enter the third interger: \"))\n",
        "\n",
        "sum = a + b + c\n",
        "\n",
        "if a==b or a==c or b==c:\n",
        "    print(\"The sum is zero\")\n",
        "else:\n",
        "    print(\"The sum of the three intergers is \",sum)"
      ]
    },
    {
      "cell_type": "markdown",
      "source": [
        "16.Write a Python program to solve (x + y) * (x + y)."
      ],
      "metadata": {
        "id": "gpCx-gfCM3R3"
      }
    },
    {
      "cell_type": "code",
      "execution_count": null,
      "metadata": {
        "id": "7i1BWvAgKS9f",
        "outputId": "40278ee8-0f49-4c73-c273-0e9a32e0e528"
      },
      "outputs": [
        {
          "name": "stdout",
          "output_type": "stream",
          "text": [
            "49\n"
          ]
        }
      ],
      "source": [
        "#Sample Data : x = 4, y = 3\n",
        "#Expected Output : (4 + 3) ^ 2) = 49\n",
        "\n",
        "x= eval(input(\"x: \"))\n",
        "y= eval(input(\"y: \"))\n",
        "output = (x + y)**2\n",
        "\n",
        "print(output)"
      ]
    },
    {
      "cell_type": "markdown",
      "source": [
        "17. Write a Python program to compute the future value of a specified principal amount, rate of interest, and a number of years."
      ],
      "metadata": {
        "id": "DoRtlWhtM7XN"
      }
    },
    {
      "cell_type": "code",
      "execution_count": null,
      "metadata": {
        "id": "w4q5zMtpKS9h",
        "outputId": "fa3f3111-bad1-4401-ce32-b2fb5ad5dc20"
      },
      "outputs": [
        {
          "name": "stdout",
          "output_type": "stream",
          "text": [
            "The value after 7 years is 12722.79.\n"
          ]
        }
      ],
      "source": [
        "# Sample Data : amt = 10000, int = 3.5, years = 7\n",
        "# Expected Output : 12722.79\n",
        "# Future value = P(1 + r/100)^n.\n",
        "current= eval(input(\"What is the current amount? \"))\n",
        "Int= eval(input(\"What is the interest rate? \"))\n",
        "Yrs = eval(input(\"What is the number of years? \"))\n",
        "\n",
        "Fv = round(current*(1+(Int/100))**Yrs, 2)\n",
        "\n",
        "print(f\"The value after {Yrs} years is {Fv}.\")"
      ]
    },
    {
      "cell_type": "markdown",
      "source": [
        "18. Write a Python program to compute the distance between the points (x1, y1) and (x2, y2)."
      ],
      "metadata": {
        "id": "9PHr_xSFNAqC"
      }
    },
    {
      "cell_type": "code",
      "execution_count": null,
      "metadata": {
        "id": "2MQHckBoKS9i",
        "outputId": "d4f60c2a-724f-48f1-d4e6-a88049653070"
      },
      "outputs": [
        {
          "name": "stdout",
          "output_type": "stream",
          "text": [
            "The distance between the coordinates (9, 8) and (7, 6) is 2\n"
          ]
        }
      ],
      "source": [
        "# distance = ((x2-x1)+(y2-y1))**1/2\n",
        "\n",
        "import math\n",
        "\n",
        "x1= eval(input(\"x1: \"))\n",
        "y1= eval(input(\"y1: \"))\n",
        "x2= eval(input(\"x2: \"))\n",
        "y2= eval(input(\"y2: \"))\n",
        "\n",
        "dist = round(math.sqrt(((x2-x1)**2)+((y2-y1))**2),1)\n",
        "\n",
        "print (f\"The distance between the coordinates {(x1,y1)} and {(x2,y2)} is {dist}\")\n"
      ]
    },
    {
      "cell_type": "markdown",
      "source": [
        "19. Write a python program to sum of the first n positive integers."
      ],
      "metadata": {
        "id": "UWb8Q8GVNF2p"
      }
    },
    {
      "cell_type": "code",
      "execution_count": null,
      "metadata": {
        "id": "0t4Ww8_dKS9k",
        "outputId": "aad5c084-39e4-4b11-ac3b-38b9afa3f5e4"
      },
      "outputs": [
        {
          "name": "stdout",
          "output_type": "stream",
          "text": [
            "The sum of the first 10 positive intergers is 55 \n"
          ]
        }
      ],
      "source": [
        "n = int(input(\"Enter the n amount of intergers: \"))\n",
        "sum = int((n * (n + 1)) / 2)\n",
        "\n",
        "print(f\"The sum of the first {n} positive intergers is {sum} \")"
      ]
    },
    {
      "cell_type": "markdown",
      "source": [
        "20.Write a Python program to convert height (in feet and inches) to centimeters."
      ],
      "metadata": {
        "id": "q1zoZnLrNJUJ"
      }
    },
    {
      "cell_type": "code",
      "execution_count": null,
      "metadata": {
        "id": "BAnSA0vlKS9l",
        "outputId": "b9ac8b8b-6528-47fa-dd70-ac5fa6326789"
      },
      "outputs": [
        {
          "name": "stdout",
          "output_type": "stream",
          "text": [
            "Enter your height in feet and inches and I'll tell you your height in centimeters\n",
            "Your height in centimeters is 200.7 cm \n"
          ]
        }
      ],
      "source": [
        "# 1 inch == 2.54 cm\n",
        "# 1 foot == 12 inches\n",
        "\n",
        "print(\"Enter your height in feet and inches and I'll tell you your height in centimeters\")\n",
        "\n",
        "feet = eval(input(\"feet: \"))\n",
        "inch = eval(input(\"inches: \"))\n",
        "\n",
        "heightcm = round(inch*2.54 + feet*12*2.54,1)\n",
        "\n",
        "print(f\"Your height in centimeters is {heightcm} cm \")\n",
        "\n"
      ]
    },
    {
      "cell_type": "markdown",
      "source": [
        "21. Write a Python program to calculate the hypotenuse of a right angled triangle."
      ],
      "metadata": {
        "id": "yicyKjL2NPqi"
      }
    },
    {
      "cell_type": "code",
      "execution_count": null,
      "metadata": {
        "id": "xAbm65b3KS9m",
        "outputId": "5bf47143-8551-45a4-d3eb-fc1331fbbf13"
      },
      "outputs": [
        {
          "name": "stdout",
          "output_type": "stream",
          "text": [
            "The hypothenuse of the triangle is  13.3\n"
          ]
        }
      ],
      "source": [
        "\n",
        "# a**2 + b**2 = hypothenuse**2\n",
        "import math\n",
        "\n",
        "a = eval(input(\"Enter the length of side a: \"))\n",
        "b = eval(input(\"Enter the length of side b: \"))\n",
        "\n",
        "hypo = round(math.sqrt(a**2 + b**2), 1)\n",
        "\n",
        "print(\"The hypothenuse of the triangle is \",hypo)"
      ]
    },
    {
      "cell_type": "markdown",
      "source": [
        "22. Write a Python program to calculate body mass index."
      ],
      "metadata": {
        "id": "Onmjo0KLNTJ6"
      }
    },
    {
      "cell_type": "code",
      "execution_count": null,
      "metadata": {
        "id": "MRaAgx-RKS9n",
        "outputId": "5d5111c1-866d-49eb-9a10-6c19eb2ba0d0"
      },
      "outputs": [
        {
          "name": "stdout",
          "output_type": "stream",
          "text": [
            "Your bmi is  19.0\n"
          ]
        }
      ],
      "source": [
        "# BMI = kg/m2\n",
        "\n",
        "heightcm = eval(input(\"Enter your height(cm): \"))\n",
        "heightm = heightcm/100\n",
        "weight = eval(input(\"Enter your weight(kg): \"))\n",
        "\n",
        "\n",
        "bmi = round(weight/(heightm**2),1)\n",
        "\n",
        "print(\"Your bmi is \",bmi)"
      ]
    },
    {
      "cell_type": "markdown",
      "source": [
        "23.Write a Python program to calculate midpoints of a line."
      ],
      "metadata": {
        "id": "kXii6e70Na7a"
      }
    },
    {
      "cell_type": "code",
      "execution_count": null,
      "metadata": {
        "id": "d1i6pglEKS9p",
        "outputId": "084275a6-3dab-4d56-8fbd-d0c7b55abc66"
      },
      "outputs": [
        {
          "name": "stdout",
          "output_type": "stream",
          "text": [
            "The midpoint of the line is (8.0, 7.0)\n"
          ]
        }
      ],
      "source": [
        "\n",
        "# midpoint of a line == ((x2+x1)/2, (y2+y1)/2)\n",
        "\n",
        "x1 = eval(input(\"x1: \"))\n",
        "y1 = eval(input(\"y1: \"))\n",
        "x2 = eval(input(\"x2: \"))\n",
        "y2 = eval(input(\"y2: \"))\n",
        "\n",
        "MidX = (x1+x2)/2\n",
        "MidY = (y1+y2)/2\n",
        "\n",
        "print(f\"The midpoint of the line is ({MidX}, {MidY})\")\n"
      ]
    },
    {
      "cell_type": "markdown",
      "source": [
        "24. Write a program which will find all such numbers which are divisible by 7 but are not a multiple of 5, between 2000 and 3200 (both included). The numbers obtained should be printed in a comma-separated sequence on a single line."
      ],
      "metadata": {
        "id": "7vTZu9AiNg1k"
      }
    },
    {
      "cell_type": "code",
      "execution_count": null,
      "metadata": {
        "id": "ZP76QUdzKS9t",
        "outputId": "ecfaf548-4ace-472b-c359-3426385f94a3"
      },
      "outputs": [
        {
          "name": "stdout",
          "output_type": "stream",
          "text": [
            "[2002, 2009, 2016, 2023, 2037, 2044, 2051, 2058, 2072, 2079, 2086, 2093, 2107, 2114, 2121, 2128, 2142, 2149, 2156, 2163, 2177, 2184, 2191, 2198, 2212, 2219, 2226, 2233, 2247, 2254, 2261, 2268, 2282, 2289, 2296, 2303, 2317, 2324, 2331, 2338, 2352, 2359, 2366, 2373, 2387, 2394, 2401, 2408, 2422, 2429, 2436, 2443, 2457, 2464, 2471, 2478, 2492, 2499, 2506, 2513, 2527, 2534, 2541, 2548, 2562, 2569, 2576, 2583, 2597, 2604, 2611, 2618, 2632, 2639, 2646, 2653, 2667, 2674, 2681, 2688, 2702, 2709, 2716, 2723, 2737, 2744, 2751, 2758, 2772, 2779, 2786, 2793, 2807, 2814, 2821, 2828, 2842, 2849, 2856, 2863, 2877, 2884, 2891, 2898, 2912, 2919, 2926, 2933, 2947, 2954, 2961, 2968, 2982, 2989, 2996, 3003, 3017, 3024, 3031, 3038, 3052, 3059, 3066, 3073, 3087, 3094, 3101, 3108, 3122, 3129, 3136, 3143, 3157, 3164, 3171, 3178, 3192, 3199]\n"
          ]
        }
      ],
      "source": [
        "# Hints:Consider use range(#begin, #end) method\n",
        "\n",
        "wantednum = []\n",
        "\n",
        "for x in range (2000,3201):\n",
        "    if x%7==0 and x%5>0:\n",
        "        wantednum.append(x)\n",
        "\n",
        "print(wantednum)\n",
        "\n",
        "\n"
      ]
    }
  ],
  "metadata": {
    "kernelspec": {
      "display_name": "Python 3.10.7 64-bit",
      "language": "python",
      "name": "python3"
    },
    "language_info": {
      "codemirror_mode": {
        "name": "ipython",
        "version": 3
      },
      "file_extension": ".py",
      "mimetype": "text/x-python",
      "name": "python",
      "nbconvert_exporter": "python",
      "pygments_lexer": "ipython3",
      "version": "3.10.7"
    },
    "orig_nbformat": 4,
    "vscode": {
      "interpreter": {
        "hash": "fb4569285eef3a3450cb62085a5b1e0da4bce0af555edc33dcf29baf3acc1368"
      }
    },
    "colab": {
      "provenance": [],
      "include_colab_link": true
    }
  },
  "nbformat": 4,
  "nbformat_minor": 0
}